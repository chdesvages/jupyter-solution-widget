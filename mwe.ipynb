{
 "cells": [
  {
   "cell_type": "markdown",
   "metadata": {},
   "source": [
    "# Hide/reveal solutions in Jupyter notebooks\n",
    "\n",
    "This notebook is a minimal working example of using accordion widgets to hide/reveal a part of a Markdown file. Typically, this file could contain solutions to exercises in the notebook. The file must be in the same folder as the Jupyter notebook.\n",
    "\n",
    "### HTML export\n",
    "\n",
    "In the classic Jupyter Notebook interface:\n",
    "\n",
    "- Run all cells to generate the widgets.\n",
    "- Select \"Widgets\" > \"Save Notebook Widget State\".\n",
    "- Save the notebook.\n",
    "- Select \"File\" > \"Download as\" > \"HTML (.html)\".\n",
    "\n",
    "The HTML version should have the functioning accordion widgets.\n",
    "\n",
    "### Solutions file\n",
    "\n",
    "The file containing the solutions (default `solutions.md`) should follow the following format:"
   ]
  },
  {
   "cell_type": "markdown",
   "metadata": {},
   "source": [
    "## [tag 1]\n",
    "\n",
    "**Markdown** for _text_ solutions. Code should be Markdown-formatted:\n",
    "\n",
    "```py\n",
    "print('This is some example Python code')\n",
    "```\n",
    "\n",
    "---\n",
    "\n",
    "## [tag 2]\n",
    "\n",
    "Another solution. Note that:\n",
    "\n",
    "- Exercises are separated by a horizontal rule, `---` in Markdown.\n",
    "- Each exercise tag (title/name) should be a header (the rank doesn't matter).\n",
    "\n",
    "To display the widget containing the solution to this exercise, run\n",
    "\n",
    "```py\n",
    "from show_solutions import show\n",
    "show('[tag 2]')\n",
    "```"
   ]
  },
  {
   "cell_type": "markdown",
   "metadata": {},
   "source": [
    "---\n",
    "\n",
    "You can put the import at the top of the notebook:"
   ]
  },
  {
   "cell_type": "code",
   "execution_count": 1,
   "metadata": {},
   "outputs": [],
   "source": [
    "from show_solutions import show"
   ]
  },
  {
   "cell_type": "markdown",
   "metadata": {},
   "source": [
    "and then instruct students to run the cell below each question to create clickable buttons under each exercise, which will allow them to reveal the solutions."
   ]
  },
  {
   "cell_type": "markdown",
   "metadata": {},
   "source": [
    "---\n",
    "\n",
    "### 🚩 Exercise 1\n",
    "\n",
    "In the empty code cell below, type Python code to display the string `Exercise 1`, and run the cell."
   ]
  },
  {
   "cell_type": "code",
   "execution_count": null,
   "metadata": {},
   "outputs": [],
   "source": []
  },
  {
   "cell_type": "code",
   "execution_count": 2,
   "metadata": {
    "hide_input": false,
    "tags": [
     "solution_cell"
    ]
   },
   "outputs": [
    {
     "data": {
      "application/vnd.jupyter.widget-view+json": {
       "model_id": "c3e2b94116f8447ea5e30fc115f6b1fb",
       "version_major": 2,
       "version_minor": 0
      },
      "text/plain": [
       "Accordion(children=(Output(layout=Layout(border_bottom='1px solid green', border_left='1px solid green', borde…"
      ]
     },
     "metadata": {},
     "output_type": "display_data"
    }
   ],
   "source": [
    "# Run this cell to create the accordion widget\n",
    "show('Exercise 1')"
   ]
  },
  {
   "cell_type": "markdown",
   "metadata": {},
   "source": [
    "---\n",
    "\n",
    "### 🚩 Exercise 2\n",
    "\n",
    "Try to figure out what the following operators do:"
   ]
  },
  {
   "cell_type": "code",
   "execution_count": 3,
   "metadata": {},
   "outputs": [
    {
     "name": "stdout",
     "output_type": "stream",
     "text": [
      "5\n",
      "-1\n",
      "6\n",
      "0.6666666666666666\n",
      "8\n",
      "7.6\n",
      "7\n",
      "3\n"
     ]
    }
   ],
   "source": [
    "print(2 + 3)\n",
    "print(2 - 3)\n",
    "print(2 * 3)\n",
    "print(2 / 3)\n",
    "print(2 ** 3)\n",
    "\n",
    "print(38 / 5)\n",
    "print(38 // 5)\n",
    "print(38 % 5)"
   ]
  },
  {
   "cell_type": "code",
   "execution_count": 4,
   "metadata": {
    "tags": [
     "solution_cell"
    ]
   },
   "outputs": [
    {
     "data": {
      "application/vnd.jupyter.widget-view+json": {
       "model_id": "d5db96642bce4a7e9f3e5c48219c8c0e",
       "version_major": 2,
       "version_minor": 0
      },
      "text/plain": [
       "Accordion(children=(Output(layout=Layout(border_bottom='1px solid green', border_left='1px solid green', borde…"
      ]
     },
     "metadata": {},
     "output_type": "display_data"
    }
   ],
   "source": [
    "show('Exercise 2')"
   ]
  },
  {
   "cell_type": "markdown",
   "metadata": {},
   "source": [
    "---\n",
    "\n",
    "### 🚩 The third question\n",
    "\n",
    "\n",
    "Create a string variable `my_string`, holding some text characters of your choice. Create an integer variable `m` with some value $m$, and use it to print **every $m$th character** of `my_string`.\n",
    "\n",
    "For example, if $m=3$, print the 3rd, 6th, 9th, etc. characters.\n",
    "\n",
    "*Hint:* if you try to print `my_string[i]`, where `i` is greater than the number of characters in `my_string` (minus one, since indices start at zero), you will get an `IndexError` (more on errors next week). The function `len()` can be used to find the length of `my_string`."
   ]
  },
  {
   "cell_type": "code",
   "execution_count": null,
   "metadata": {},
   "outputs": [],
   "source": []
  },
  {
   "cell_type": "code",
   "execution_count": 5,
   "metadata": {
    "tags": [
     "solution_cell"
    ]
   },
   "outputs": [
    {
     "data": {
      "application/vnd.jupyter.widget-view+json": {
       "model_id": "17883c1e0cff43aba498c326527b1e90",
       "version_major": 2,
       "version_minor": 0
      },
      "text/plain": [
       "Accordion(children=(Output(layout=Layout(border_bottom='1px solid green', border_left='1px solid green', borde…"
      ]
     },
     "metadata": {},
     "output_type": "display_data"
    }
   ],
   "source": [
    "show('Question 3')"
   ]
  },
  {
   "cell_type": "markdown",
   "metadata": {},
   "source": [
    "\n",
    "---\n",
    "\n",
    "### 🚩 Problem 4 (mixed code and Markdown)\n",
    "\n",
    "Find a *small* floating-point value `x` such that `print(x == 0)` displays `False`, but `print(x + 1 == 1)` displays `True`. Can you explain what you think is happening?"
   ]
  },
  {
   "cell_type": "code",
   "execution_count": null,
   "metadata": {},
   "outputs": [],
   "source": []
  },
  {
   "cell_type": "code",
   "execution_count": 6,
   "metadata": {
    "tags": [
     "solution_cell"
    ]
   },
   "outputs": [
    {
     "data": {
      "application/vnd.jupyter.widget-view+json": {
       "model_id": "6f9acfeadf6b4584baa575c5d3d3018a",
       "version_major": 2,
       "version_minor": 0
      },
      "text/plain": [
       "Accordion(children=(Output(layout=Layout(border_bottom='1px solid green', border_left='1px solid green', borde…"
      ]
     },
     "metadata": {},
     "output_type": "display_data"
    }
   ],
   "source": [
    "show('prob4')"
   ]
  }
 ],
 "metadata": {
  "kernelspec": {
   "display_name": "Python 3 (ipykernel)",
   "language": "python",
   "name": "python3"
  },
  "language_info": {
   "codemirror_mode": {
    "name": "ipython",
    "version": 3
   },
   "file_extension": ".py",
   "mimetype": "text/x-python",
   "name": "python",
   "nbconvert_exporter": "python",
   "pygments_lexer": "ipython3",
   "version": "3.11.3"
  },
  "widgets": {
   "application/vnd.jupyter.widget-state+json": {
    "state": {
     "17883c1e0cff43aba498c326527b1e90": {
      "model_module": "@jupyter-widgets/controls",
      "model_module_version": "2.0.0",
      "model_name": "AccordionModel",
      "state": {
       "children": [
        "IPY_MODEL_2014bfddbe3e4aa8b9f33b919792ba9e"
       ],
       "layout": "IPY_MODEL_e690b784de884c0db9c208b3e9b76791",
       "titles": [
        "Solution"
       ]
      }
     },
     "2014bfddbe3e4aa8b9f33b919792ba9e": {
      "model_module": "@jupyter-widgets/output",
      "model_module_version": "1.0.0",
      "model_name": "OutputModel",
      "state": {
       "layout": "IPY_MODEL_8515fdfb27b9457c8533f2930605d847",
       "outputs": [
        {
         "data": {
          "text/markdown": "\n```py\nmy_string = 'Some text characters of my choice.'\nm = 7\n\n# Find out how many times we can print the mth character\n# before exceeding the string length\nN = len(my_string)\nprint(N // m)\n\nprint(my_string[m - 1])\nprint(my_string[2 * m - 1])\nprint(my_string[3 * m - 1])\nprint(my_string[4 * m - 1])\n```\n\n",
          "text/plain": "<IPython.core.display.Markdown object>"
         },
         "metadata": {},
         "output_type": "display_data"
        }
       ]
      }
     },
     "20678823cd86471d9faf2b8e048ab449": {
      "model_module": "@jupyter-widgets/base",
      "model_module_version": "2.0.0",
      "model_name": "LayoutModel",
      "state": {}
     },
     "340e5bab30054329ad69ab5c8aca354f": {
      "model_module": "@jupyter-widgets/output",
      "model_module_version": "1.0.0",
      "model_name": "OutputModel",
      "state": {
       "layout": "IPY_MODEL_e068f2425cbb49f493871612e1845b3a",
       "outputs": [
        {
         "data": {
          "text/markdown": "\n* `+`, `-` are addition and subtraction,\n* `*`, `/` are multiplication and division,\n* `**` is exponentiation (e.g. `2 ** 3` returns $2^3$),\n* `//` is integer division,\n* `%` is modulus, e.g. `38 % 5` returns the remainder of `38 // 5`.\n\n",
          "text/plain": "<IPython.core.display.Markdown object>"
         },
         "metadata": {},
         "output_type": "display_data"
        }
       ]
      }
     },
     "3f6ccc20a47e4be4a3ae1687e3e4838c": {
      "model_module": "@jupyter-widgets/base",
      "model_module_version": "2.0.0",
      "model_name": "LayoutModel",
      "state": {}
     },
     "480ade412e5944fcb4b89a1e1244d750": {
      "model_module": "@jupyter-widgets/base",
      "model_module_version": "2.0.0",
      "model_name": "LayoutModel",
      "state": {
       "border_bottom": "1px solid green",
       "border_left": "1px solid green",
       "border_right": "1px solid green",
       "border_top": "1px solid green"
      }
     },
     "6f9acfeadf6b4584baa575c5d3d3018a": {
      "model_module": "@jupyter-widgets/controls",
      "model_module_version": "2.0.0",
      "model_name": "AccordionModel",
      "state": {
       "children": [
        "IPY_MODEL_e3aad6346d6645e7a1105823f45deaca"
       ],
       "layout": "IPY_MODEL_3f6ccc20a47e4be4a3ae1687e3e4838c",
       "titles": [
        "Solution"
       ]
      }
     },
     "8515fdfb27b9457c8533f2930605d847": {
      "model_module": "@jupyter-widgets/base",
      "model_module_version": "2.0.0",
      "model_name": "LayoutModel",
      "state": {
       "border_bottom": "1px solid green",
       "border_left": "1px solid green",
       "border_right": "1px solid green",
       "border_top": "1px solid green"
      }
     },
     "8b4e97135b3a430cad66101e2703f80e": {
      "model_module": "@jupyter-widgets/output",
      "model_module_version": "1.0.0",
      "model_name": "OutputModel",
      "state": {
       "layout": "IPY_MODEL_c4a63f2bce624d5c902cce1eb93ecbcb",
       "outputs": [
        {
         "data": {
          "text/markdown": "\n```py\nprint('Exercise 1')\n```\n\n",
          "text/plain": "<IPython.core.display.Markdown object>"
         },
         "metadata": {},
         "output_type": "display_data"
        }
       ]
      }
     },
     "c3e2b94116f8447ea5e30fc115f6b1fb": {
      "model_module": "@jupyter-widgets/controls",
      "model_module_version": "2.0.0",
      "model_name": "AccordionModel",
      "state": {
       "children": [
        "IPY_MODEL_8b4e97135b3a430cad66101e2703f80e"
       ],
       "layout": "IPY_MODEL_20678823cd86471d9faf2b8e048ab449",
       "titles": [
        "Solution"
       ]
      }
     },
     "c4a63f2bce624d5c902cce1eb93ecbcb": {
      "model_module": "@jupyter-widgets/base",
      "model_module_version": "2.0.0",
      "model_name": "LayoutModel",
      "state": {
       "border_bottom": "1px solid green",
       "border_left": "1px solid green",
       "border_right": "1px solid green",
       "border_top": "1px solid green"
      }
     },
     "d5db96642bce4a7e9f3e5c48219c8c0e": {
      "model_module": "@jupyter-widgets/controls",
      "model_module_version": "2.0.0",
      "model_name": "AccordionModel",
      "state": {
       "children": [
        "IPY_MODEL_340e5bab30054329ad69ab5c8aca354f"
       ],
       "layout": "IPY_MODEL_e7a7d98432ea42109b1194d76b03c4a5",
       "titles": [
        "Solution"
       ]
      }
     },
     "e068f2425cbb49f493871612e1845b3a": {
      "model_module": "@jupyter-widgets/base",
      "model_module_version": "2.0.0",
      "model_name": "LayoutModel",
      "state": {
       "border_bottom": "1px solid green",
       "border_left": "1px solid green",
       "border_right": "1px solid green",
       "border_top": "1px solid green"
      }
     },
     "e3aad6346d6645e7a1105823f45deaca": {
      "model_module": "@jupyter-widgets/output",
      "model_module_version": "1.0.0",
      "model_name": "OutputModel",
      "state": {
       "layout": "IPY_MODEL_480ade412e5944fcb4b89a1e1244d750",
       "outputs": [
        {
         "data": {
          "text/markdown": "\n```py\nx = 1.110223024625156e-16\n\nprint(x == 0)\nprint(x + 1 == 1)\n```\n\nThe value given is (just under) half of what we call $\\epsilon$, or **machine epsilon** --\nthe distance between 1 and the next closest number in double-precision floating-point representation\n(i.e. using the `float` type).\n\nThis means that any real number $a \\in [1, 1+\\frac{\\epsilon}{2})$ has the same floating-point\nrepresentation as $1$ -- it effectively gets rounded down to 1. Similarly, any real number\n$b \\in [1 + \\frac{\\epsilon}{2}, 1 + \\epsilon]$ has the same representation as $1 + \\epsilon$,\nbecause it is rounded up. Now, working in finite precision means that we can actually find\n*the* largest floating-point number `x`$>0$ such that `x`$<\\frac{\\epsilon}{2}$ -- this is the\nvalue given here.\n\nFor a simpler example, if we worked with a system which could only represent numbers up to\n3 significant digits:\n* We could represent the number $1$ and the number $1.01$, but every real number in between\nwould get rounded to the closest of these values.\n* This means that, for this system, $\\epsilon=0.01$.\n* The largest number `x`$>0$ representable in this system such that `x`$<\\frac{\\epsilon}{2}=0.005$\nis `x = 0.00499`, since we can store at most 3 significant digits.\n\nNote that, in this system, there is no difference between the value of `1 + 0.001`, `1 + 0.00136`,\n`1 + 0.00487`, etc. -- they all evaluate to `1`. We say that [floating-point addition leads to\n**round-off error**](https://en.wikipedia.org/wiki/Round-off_error#Addition).\n",
          "text/plain": "<IPython.core.display.Markdown object>"
         },
         "metadata": {},
         "output_type": "display_data"
        }
       ]
      }
     },
     "e690b784de884c0db9c208b3e9b76791": {
      "model_module": "@jupyter-widgets/base",
      "model_module_version": "2.0.0",
      "model_name": "LayoutModel",
      "state": {}
     },
     "e7a7d98432ea42109b1194d76b03c4a5": {
      "model_module": "@jupyter-widgets/base",
      "model_module_version": "2.0.0",
      "model_name": "LayoutModel",
      "state": {}
     }
    },
    "version_major": 2,
    "version_minor": 0
   }
  }
 },
 "nbformat": 4,
 "nbformat_minor": 4
}
